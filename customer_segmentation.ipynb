{
 "cells": [
  {
   "cell_type": "code",
   "execution_count": null,
   "id": "14b9c90e-0616-47ba-b01e-315fb29d3d6a",
   "metadata": {},
   "outputs": [],
   "source": [
    "#We will first import all the dependicies"
   ]
  },
  {
   "cell_type": "code",
   "execution_count": 2,
   "id": "8720b6e9-b4cc-42df-9e9d-e80f4632e27d",
   "metadata": {},
   "outputs": [],
   "source": [
    "import pandas as pd\n",
    "import numpy as np\n",
    "import matplotlib.pyplot as plt\n",
    "import seaborn as sns\n",
    "from sklearn.cluster import KMeans"
   ]
  },
  {
   "cell_type": "code",
   "execution_count": 3,
   "id": "a9bfd9ad-363b-4c1e-ade3-b048c19faf5b",
   "metadata": {},
   "outputs": [],
   "source": [
    "#now we will import the csv file "
   ]
  },
  {
   "cell_type": "code",
   "execution_count": 4,
   "id": "7085059a-9408-4213-94e7-6e527650c41b",
   "metadata": {},
   "outputs": [],
   "source": [
    "data_file=pd.read_csv('Downloads/dataset_mall/Mall_Customers.csv')"
   ]
  },
  {
   "cell_type": "code",
   "execution_count": 5,
   "id": "ffe2c866-fde6-4f29-a3b1-a2304f7fcd01",
   "metadata": {},
   "outputs": [
    {
     "data": {
      "text/html": [
       "<div>\n",
       "<style scoped>\n",
       "    .dataframe tbody tr th:only-of-type {\n",
       "        vertical-align: middle;\n",
       "    }\n",
       "\n",
       "    .dataframe tbody tr th {\n",
       "        vertical-align: top;\n",
       "    }\n",
       "\n",
       "    .dataframe thead th {\n",
       "        text-align: right;\n",
       "    }\n",
       "</style>\n",
       "<table border=\"1\" class=\"dataframe\">\n",
       "  <thead>\n",
       "    <tr style=\"text-align: right;\">\n",
       "      <th></th>\n",
       "      <th>CustomerID</th>\n",
       "      <th>Gender</th>\n",
       "      <th>Age</th>\n",
       "      <th>Annual Income (k$)</th>\n",
       "      <th>Spending Score (1-100)</th>\n",
       "    </tr>\n",
       "  </thead>\n",
       "  <tbody>\n",
       "    <tr>\n",
       "      <th>0</th>\n",
       "      <td>1</td>\n",
       "      <td>Male</td>\n",
       "      <td>19</td>\n",
       "      <td>15</td>\n",
       "      <td>39</td>\n",
       "    </tr>\n",
       "    <tr>\n",
       "      <th>1</th>\n",
       "      <td>2</td>\n",
       "      <td>Male</td>\n",
       "      <td>21</td>\n",
       "      <td>15</td>\n",
       "      <td>81</td>\n",
       "    </tr>\n",
       "    <tr>\n",
       "      <th>2</th>\n",
       "      <td>3</td>\n",
       "      <td>Female</td>\n",
       "      <td>20</td>\n",
       "      <td>16</td>\n",
       "      <td>6</td>\n",
       "    </tr>\n",
       "    <tr>\n",
       "      <th>3</th>\n",
       "      <td>4</td>\n",
       "      <td>Female</td>\n",
       "      <td>23</td>\n",
       "      <td>16</td>\n",
       "      <td>77</td>\n",
       "    </tr>\n",
       "    <tr>\n",
       "      <th>4</th>\n",
       "      <td>5</td>\n",
       "      <td>Female</td>\n",
       "      <td>31</td>\n",
       "      <td>17</td>\n",
       "      <td>40</td>\n",
       "    </tr>\n",
       "  </tbody>\n",
       "</table>\n",
       "</div>"
      ],
      "text/plain": [
       "   CustomerID  Gender  Age  Annual Income (k$)  Spending Score (1-100)\n",
       "0           1    Male   19                  15                      39\n",
       "1           2    Male   21                  15                      81\n",
       "2           3  Female   20                  16                       6\n",
       "3           4  Female   23                  16                      77\n",
       "4           5  Female   31                  17                      40"
      ]
     },
     "execution_count": 5,
     "metadata": {},
     "output_type": "execute_result"
    }
   ],
   "source": [
    "#check the firat 5 rows\n",
    "data_file.head()"
   ]
  },
  {
   "cell_type": "code",
   "execution_count": 9,
   "id": "a928cd78-a0ef-4289-8cfd-b864b54888df",
   "metadata": {},
   "outputs": [
    {
     "name": "stdout",
     "output_type": "stream",
     "text": [
      "<class 'pandas.core.frame.DataFrame'>\n",
      "RangeIndex: 200 entries, 0 to 199\n",
      "Data columns (total 5 columns):\n",
      " #   Column                  Non-Null Count  Dtype \n",
      "---  ------                  --------------  ----- \n",
      " 0   CustomerID              200 non-null    int64 \n",
      " 1   Gender                  200 non-null    object\n",
      " 2   Age                     200 non-null    int64 \n",
      " 3   Annual Income (k$)      200 non-null    int64 \n",
      " 4   Spending Score (1-100)  200 non-null    int64 \n",
      "dtypes: int64(4), object(1)\n",
      "memory usage: 7.9+ KB\n"
     ]
    },
    {
     "data": {
      "text/plain": [
       "(200, 5)"
      ]
     },
     "execution_count": 9,
     "metadata": {},
     "output_type": "execute_result"
    }
   ],
   "source": [
    "#check the shape to check for any null values and how many rows are there\n",
    "data_file.info()\n",
    "data_file.shape"
   ]
  },
  {
   "cell_type": "code",
   "execution_count": 11,
   "id": "f626dd01-3d82-42ca-a860-0868adc1ed8e",
   "metadata": {},
   "outputs": [],
   "source": [
    "#now we have predicted that we will use only annual income and spending score to generate the k mean cluster\n",
    "#so we have created a variable X to store the data of only these two columns\n",
    "X=data_file.iloc[:,[3,4]].values"
   ]
  },
  {
   "cell_type": "code",
   "execution_count": 13,
   "id": "dd100935-7dad-4b3f-8329-2a7077fc6c65",
   "metadata": {},
   "outputs": [
    {
     "data": {
      "text/plain": [
       "array([[ 15,  39],\n",
       "       [ 15,  81],\n",
       "       [ 16,   6],\n",
       "       [ 16,  77],\n",
       "       [ 17,  40],\n",
       "       [ 17,  76],\n",
       "       [ 18,   6],\n",
       "       [ 18,  94],\n",
       "       [ 19,   3],\n",
       "       [ 19,  72],\n",
       "       [ 19,  14],\n",
       "       [ 19,  99],\n",
       "       [ 20,  15],\n",
       "       [ 20,  77],\n",
       "       [ 20,  13],\n",
       "       [ 20,  79],\n",
       "       [ 21,  35],\n",
       "       [ 21,  66],\n",
       "       [ 23,  29],\n",
       "       [ 23,  98],\n",
       "       [ 24,  35],\n",
       "       [ 24,  73],\n",
       "       [ 25,   5],\n",
       "       [ 25,  73],\n",
       "       [ 28,  14],\n",
       "       [ 28,  82],\n",
       "       [ 28,  32],\n",
       "       [ 28,  61],\n",
       "       [ 29,  31],\n",
       "       [ 29,  87],\n",
       "       [ 30,   4],\n",
       "       [ 30,  73],\n",
       "       [ 33,   4],\n",
       "       [ 33,  92],\n",
       "       [ 33,  14],\n",
       "       [ 33,  81],\n",
       "       [ 34,  17],\n",
       "       [ 34,  73],\n",
       "       [ 37,  26],\n",
       "       [ 37,  75],\n",
       "       [ 38,  35],\n",
       "       [ 38,  92],\n",
       "       [ 39,  36],\n",
       "       [ 39,  61],\n",
       "       [ 39,  28],\n",
       "       [ 39,  65],\n",
       "       [ 40,  55],\n",
       "       [ 40,  47],\n",
       "       [ 40,  42],\n",
       "       [ 40,  42],\n",
       "       [ 42,  52],\n",
       "       [ 42,  60],\n",
       "       [ 43,  54],\n",
       "       [ 43,  60],\n",
       "       [ 43,  45],\n",
       "       [ 43,  41],\n",
       "       [ 44,  50],\n",
       "       [ 44,  46],\n",
       "       [ 46,  51],\n",
       "       [ 46,  46],\n",
       "       [ 46,  56],\n",
       "       [ 46,  55],\n",
       "       [ 47,  52],\n",
       "       [ 47,  59],\n",
       "       [ 48,  51],\n",
       "       [ 48,  59],\n",
       "       [ 48,  50],\n",
       "       [ 48,  48],\n",
       "       [ 48,  59],\n",
       "       [ 48,  47],\n",
       "       [ 49,  55],\n",
       "       [ 49,  42],\n",
       "       [ 50,  49],\n",
       "       [ 50,  56],\n",
       "       [ 54,  47],\n",
       "       [ 54,  54],\n",
       "       [ 54,  53],\n",
       "       [ 54,  48],\n",
       "       [ 54,  52],\n",
       "       [ 54,  42],\n",
       "       [ 54,  51],\n",
       "       [ 54,  55],\n",
       "       [ 54,  41],\n",
       "       [ 54,  44],\n",
       "       [ 54,  57],\n",
       "       [ 54,  46],\n",
       "       [ 57,  58],\n",
       "       [ 57,  55],\n",
       "       [ 58,  60],\n",
       "       [ 58,  46],\n",
       "       [ 59,  55],\n",
       "       [ 59,  41],\n",
       "       [ 60,  49],\n",
       "       [ 60,  40],\n",
       "       [ 60,  42],\n",
       "       [ 60,  52],\n",
       "       [ 60,  47],\n",
       "       [ 60,  50],\n",
       "       [ 61,  42],\n",
       "       [ 61,  49],\n",
       "       [ 62,  41],\n",
       "       [ 62,  48],\n",
       "       [ 62,  59],\n",
       "       [ 62,  55],\n",
       "       [ 62,  56],\n",
       "       [ 62,  42],\n",
       "       [ 63,  50],\n",
       "       [ 63,  46],\n",
       "       [ 63,  43],\n",
       "       [ 63,  48],\n",
       "       [ 63,  52],\n",
       "       [ 63,  54],\n",
       "       [ 64,  42],\n",
       "       [ 64,  46],\n",
       "       [ 65,  48],\n",
       "       [ 65,  50],\n",
       "       [ 65,  43],\n",
       "       [ 65,  59],\n",
       "       [ 67,  43],\n",
       "       [ 67,  57],\n",
       "       [ 67,  56],\n",
       "       [ 67,  40],\n",
       "       [ 69,  58],\n",
       "       [ 69,  91],\n",
       "       [ 70,  29],\n",
       "       [ 70,  77],\n",
       "       [ 71,  35],\n",
       "       [ 71,  95],\n",
       "       [ 71,  11],\n",
       "       [ 71,  75],\n",
       "       [ 71,   9],\n",
       "       [ 71,  75],\n",
       "       [ 72,  34],\n",
       "       [ 72,  71],\n",
       "       [ 73,   5],\n",
       "       [ 73,  88],\n",
       "       [ 73,   7],\n",
       "       [ 73,  73],\n",
       "       [ 74,  10],\n",
       "       [ 74,  72],\n",
       "       [ 75,   5],\n",
       "       [ 75,  93],\n",
       "       [ 76,  40],\n",
       "       [ 76,  87],\n",
       "       [ 77,  12],\n",
       "       [ 77,  97],\n",
       "       [ 77,  36],\n",
       "       [ 77,  74],\n",
       "       [ 78,  22],\n",
       "       [ 78,  90],\n",
       "       [ 78,  17],\n",
       "       [ 78,  88],\n",
       "       [ 78,  20],\n",
       "       [ 78,  76],\n",
       "       [ 78,  16],\n",
       "       [ 78,  89],\n",
       "       [ 78,   1],\n",
       "       [ 78,  78],\n",
       "       [ 78,   1],\n",
       "       [ 78,  73],\n",
       "       [ 79,  35],\n",
       "       [ 79,  83],\n",
       "       [ 81,   5],\n",
       "       [ 81,  93],\n",
       "       [ 85,  26],\n",
       "       [ 85,  75],\n",
       "       [ 86,  20],\n",
       "       [ 86,  95],\n",
       "       [ 87,  27],\n",
       "       [ 87,  63],\n",
       "       [ 87,  13],\n",
       "       [ 87,  75],\n",
       "       [ 87,  10],\n",
       "       [ 87,  92],\n",
       "       [ 88,  13],\n",
       "       [ 88,  86],\n",
       "       [ 88,  15],\n",
       "       [ 88,  69],\n",
       "       [ 93,  14],\n",
       "       [ 93,  90],\n",
       "       [ 97,  32],\n",
       "       [ 97,  86],\n",
       "       [ 98,  15],\n",
       "       [ 98,  88],\n",
       "       [ 99,  39],\n",
       "       [ 99,  97],\n",
       "       [101,  24],\n",
       "       [101,  68],\n",
       "       [103,  17],\n",
       "       [103,  85],\n",
       "       [103,  23],\n",
       "       [103,  69],\n",
       "       [113,   8],\n",
       "       [113,  91],\n",
       "       [120,  16],\n",
       "       [120,  79],\n",
       "       [126,  28],\n",
       "       [126,  74],\n",
       "       [137,  18],\n",
       "       [137,  83]], dtype=int64)"
      ]
     },
     "execution_count": 13,
     "metadata": {},
     "output_type": "execute_result"
    }
   ],
   "source": [
    "X"
   ]
  },
  {
   "cell_type": "code",
   "execution_count": 20,
   "id": "d2368d25-1975-4fe1-a69e-103f34dc0959",
   "metadata": {},
   "outputs": [],
   "source": [
    "wcss=[]\n",
    "for i in range(1,11):\n",
    "    kmeans=KMeans(n_clusters=i,init='k-means++',random_state=42)\n",
    "    kmeans.fit(X)\n",
    "    wcss.append(kmeans.inertia_)"
   ]
  },
  {
   "cell_type": "code",
   "execution_count": 22,
   "id": "652516ff-2b32-4c41-afd9-e817e378d74a",
   "metadata": {},
   "outputs": [
    {
     "data": {
      "text/plain": [
       "Text(0, 0.5, 'WCSS')"
      ]
     },
     "execution_count": 22,
     "metadata": {},
     "output_type": "execute_result"
    },
    {
     "data": {
      "image/png": "[encoded data removed]",
      "text/plain": [
       "<Figure size 640x480 with 1 Axes>"
      ]
     },
     "metadata": {},
     "output_type": "display_data"
    }
   ],
   "source": [
    "#now we will plot an elbow graph\n",
    "sns.set()\n",
    "plt.plot(range(1,11),wcss)\n",
    "#adding title and x axis and y axis title\n",
    "plt.title(\"Elbow Point Graph\")\n",
    "plt.xlabel(\"Number of Clusters\")\n",
    "plt.ylabel(\"WCSS\")\n",
    "#wcss=within clusters sum of squares"
   ]
  },
  {
   "cell_type": "code",
   "execution_count": 23,
   "id": "0af43a19-8a87-4605-b125-a5eef4eef58e",
   "metadata": {},
   "outputs": [],
   "source": [
    "#now we can clearly see that the elbow bend is at 5 \n",
    "#so we have number of clusters=5"
   ]
  },
  {
   "cell_type": "code",
   "execution_count": 24,
   "id": "fdf843a4-0b09-4d42-8e26-3ba341d709cc",
   "metadata": {},
   "outputs": [
    {
     "name": "stdout",
     "output_type": "stream",
     "text": [
      "[3 4 3 4 3 4 3 4 3 4 3 4 3 4 3 4 3 4 3 4 3 4 3 4 3 4 3 4 3 4 3 4 3 4 3 4 3\n",
      " 4 3 4 3 4 3 0 3 4 0 0 0 0 0 0 0 0 0 0 0 0 0 0 0 0 0 0 0 0 0 0 0 0 0 0 0 0\n",
      " 0 0 0 0 0 0 0 0 0 0 0 0 0 0 0 0 0 0 0 0 0 0 0 0 0 0 0 0 0 0 0 0 0 0 0 0 0\n",
      " 0 0 0 0 0 0 0 0 0 0 0 0 1 2 1 0 1 2 1 2 1 0 1 2 1 2 1 2 1 2 1 0 1 2 1 2 1\n",
      " 2 1 2 1 2 1 2 1 2 1 2 1 2 1 2 1 2 1 2 1 2 1 2 1 2 1 2 1 2 1 2 1 2 1 2 1 2\n",
      " 1 2 1 2 1 2 1 2 1 2 1 2 1 2 1]\n"
     ]
    }
   ],
   "source": [
    "kmeans=KMeans(n_clusters=5,init='k-means++',random_state=0)\n",
    "Y=kmeans.fit_predict(X)\n",
    "print(Y)"
   ]
  },
  {
   "cell_type": "code",
   "execution_count": 25,
   "id": "bcad59a5-b37b-4f85-8369-fb2d303e6cb6",
   "metadata": {},
   "outputs": [],
   "source": [
    "#now we will  visualise all the clusters"
   ]
  },
  {
   "cell_type": "code",
   "execution_count": 28,
   "id": "ebb1d199-2c53-4c37-acd6-21d6e3e52589",
   "metadata": {},
   "outputs": [
    {
     "data": {
      "image/png": "[encoded data removed]",
      "text/plain": [
       "<Figure size 800x800 with 1 Axes>"
      ]
     },
     "metadata": {},
     "output_type": "display_data"
    }
   ],
   "source": [
    "plt.figure(figsize=(8,8))\n",
    "plt.scatter(X[Y==0,0],X[Y==0,1],s=50,c='green',label='Cluster 1')\n",
    "plt.scatter(X[Y==1,0],X[Y==1,1],s=50,c='red',label='Cluster 2')\n",
    "plt.scatter(X[Y==2,0],X[Y==2,1],s=50,c='blue',label='Cluster 3')\n",
    "plt.scatter(X[Y==3,0],X[Y==3,1],s=50,c='yellow',label='Cluster 4')\n",
    "plt.scatter(X[Y==4,0],X[Y==4,1],s=50,c='orange',label='Cluster 5')\n",
    "\n",
    "#plot the centroids\n",
    "plt.scatter(kmeans.cluster_centers_[:,0],kmeans.cluster_centers_[:,1],s=100,c=\"cyan\",label=\"Centroids\")\n",
    "\n",
    "plt.title(\"Customer Groups\")\n",
    "plt.xlabel(\"Annual Income\")\n",
    "plt.ylabel(\"Spending Score\")\n",
    "plt.show()"
   ]
  },
  {
   "cell_type": "code",
   "execution_count": null,
   "id": "da040f30-e28f-40f4-b98f-50af3387f7a9",
   "metadata": {},
   "outputs": [],
   "source": [
    "#make analysis"
   ]
  }
 ],
 "metadata": {
  "kernelspec": {
   "display_name": "Python 3 (ipykernel)",
   "language": "python",
   "name": "python3"
  },
  "language_info": {
   "codemirror_mode": {
    "name": "ipython",
    "version": 3
   },
   "file_extension": ".py",
   "mimetype": "text/x-python",
   "name": "python",
   "nbconvert_exporter": "python",
   "pygments_lexer": "ipython3",
   "version": "3.12.8"
  }
 },
 "nbformat": 4,
 "nbformat_minor": 5
}
